{
 "metadata": {
  "name": "Untitled3"
 },
 "nbformat": 3,
 "nbformat_minor": 0,
 "worksheets": [
  {
   "cells": [
    {
     "cell_type": "markdown",
     "metadata": {},
     "source": "Python, eggs..."
    },
    {
     "cell_type": "markdown",
     "metadata": {},
     "source": "##Small tools to write a small script..."
    },
    {
     "cell_type": "markdown",
     "metadata": {},
     "source": "To execute a script ie to run the python interpreter on it you type \n\npython My_script.py\n\nint the terminal or use the magic command %run in the Ipython terminal\n\nIn a script sys.argv contains the list of the arguments passed to the script. The firs one being the name of the script itself.\n\npython My_script.py N_spins T"
    },
    {
     "cell_type": "code",
     "collapsed": false,
     "input": "import sys, argparse, os, os.path, time, datetime, pickle\n\nos.getcwd() #string of the path of the current working directory\nbname=os.path.basename(\"/Users/me/MyModule.py\")\ndname=os.path.dirname(\"/Users/me/MyModule.py\")\nos.path.join(dname,bname)\n\nsys.path\nsys.path.append(\"os.getcwd()\") #add the current directory to the PYTHONPATH (locally)\n\ntime.time # in seconds from the 70's\n\ntime.strftime(\"%a, %d %b %Y %H:%M:%S +0000\", time.gmtime())\n\nd=dict()\nd[\"Paul\"]=34356\n\nmy_file=open(\"pickle_test\",\"w\")\npickle.dump(my_file,d)\nmy_file.close() # until the pipe is not closed, nothing may be written in the output file\n\nmy_file2=open(\"pickle_test\",\"r\")\nd2=pickle.load(my_file2)\n\nprint my_file2.read()\nprint d2\n",
     "language": "python",
     "metadata": {},
     "outputs": [],
     "prompt_number": 30
    },
    {
     "cell_type": "code",
     "collapsed": false,
     "input": "time.strftime(\"%a, %d %b %Y %H:%M:%S +0000\", time.gmtime())",
     "language": "python",
     "metadata": {},
     "outputs": [
      {
       "metadata": {},
       "output_type": "pyout",
       "prompt_number": 36,
       "text": "'Thu, 10 Oct 2013 11:37:14 +0000'"
      }
     ],
     "prompt_number": 36
    },
    {
     "cell_type": "markdown",
     "metadata": {},
     "source": "Write a script or use the ipython terminal to \n\n- get the cwd\n- get the list of directories in it\n- change dir to the second directory of the list\n- get the list of files in it\n- get list the files that have an \"e\" in their name\n- read the first line of each of these files\n- gather these lines in a list"
    },
    {
     "cell_type": "markdown",
     "metadata": {},
     "source": "A simple and nice way to check if a string contains a given substring"
    },
    {
     "cell_type": "code",
     "collapsed": false,
     "input": "s=\"supercalifragilis\"\n\"ercal\" in s # returns a boolean True or False",
     "language": "python",
     "metadata": {},
     "outputs": []
    },
    {
     "cell_type": "markdown",
     "metadata": {},
     "source": "##... And a module"
    },
    {
     "cell_type": "markdown",
     "metadata": {},
     "source": "Why to write a module ? Best practices !"
    },
    {
     "cell_type": "code",
     "collapsed": false,
     "input": "import ....\n\ndef....\n\nif __name__ == \"__main__\":\n\n#what is there will not be executed if the file is loaded as a module.",
     "language": "python",
     "metadata": {},
     "outputs": []
    },
    {
     "cell_type": "markdown",
     "metadata": {},
     "source": "A way to append a folder even if its name changes from one machine to the other"
    },
    {
     "cell_type": "code",
     "collapsed": false,
     "input": "import sys,os.path\nsys.path.append(os.path.expanduser('~/Dropbox/My_module'))\nimport MyModule\nfrom math import pi\nimport math as M\n\nif __name__ == \"__main__\":\n",
     "language": "python",
     "metadata": {},
     "outputs": []
    },
    {
     "cell_type": "markdown",
     "metadata": {},
     "source": "##Lambda functions"
    },
    {
     "cell_type": "markdown",
     "metadata": {},
     "source": "When a function is used only once, do not waste memory and space in you code and use anonymous functions that are called in python **lambda functions**. These functions are destroyed just after their use."
    },
    {
     "cell_type": "code",
     "collapsed": false,
     "input": "f=lambda x:x*x",
     "language": "python",
     "metadata": {},
     "outputs": [],
     "prompt_number": 15
    },
    {
     "cell_type": "code",
     "collapsed": false,
     "input": "g=lambda x,y:x+y",
     "language": "python",
     "metadata": {},
     "outputs": [],
     "prompt_number": 16
    },
    {
     "cell_type": "markdown",
     "metadata": {},
     "source": "You can use a function as an argument or in return"
    },
    {
     "cell_type": "code",
     "collapsed": false,
     "input": "def make_incrementor (n): \n    return lambda x: x + n\n\n\nf = make_incrementor(2)\ng = make_incrementor(6)\n    \nprint f(42), g(42)\n    \nprint make_incrementor(22)(33)",
     "language": "python",
     "metadata": {},
     "outputs": [
      {
       "output_type": "stream",
       "stream": "stdout",
       "text": "44 48\n55\n"
      }
     ],
     "prompt_number": 29
    },
    {
     "cell_type": "markdown",
     "metadata": {},
     "source": "##List comprehension"
    },
    {
     "cell_type": "markdown",
     "metadata": {},
     "source": "We want to create :\n\n- list of integers\n- list of their squares\n    * lambda function\n    * with map\n    * list comp\n- list x,x**2\n\n- filter\n- reduce\n- nested for\n- if ... and ...\n\n\nLet's first do it by ourselves and them let's compare with the simple and crystal clear solutions below : no need for many line of codes with nested for loops (mostly if one comes from C++ or Fortran) no need neither for a integer index,..."
    },
    {
     "cell_type": "code",
     "collapsed": false,
     "input": "liste=[2,341,45,823]\n\n# simple is better than complex\n# complex is better than complicated\n# \"The Zen of Python\"\n\n#a complicated solution\nliste2=[]\nfor i in range(len(liste)):\n    liste2.append(liste[1]**2)\n\nmap(lambda x:x**2,liste)\n[x**2 for x in liste]\n\n[[x,x**2] for x in liste]\n\nfilter(lambda x:x>24,liste) #this lambda function returns a boolean\n[x for x in liste if x>24]\n[x for x in liste if x>24 and x< 341]\n\n[y*x for x in liste for y in liste] #flat or...\n[[y*x for x in liste] for y in liste] #nested...\n\nreduce(lambda x,y:x*y,liste) #returns the product of all elements of the list\n# the iterative nature of reduce makes it powerful in many cases according to the \n# cleverness of the lambda function or actually of the programmer",
     "language": "python",
     "metadata": {},
     "outputs": []
    },
    {
     "cell_type": "markdown",
     "metadata": {},
     "source": "##PythonTeX for a break... and for students that do not make their homework"
    },
    {
     "cell_type": "markdown",
     "metadata": {},
     "source": "A nice illustration of what can happen with open languages and smart guys that share their work and ideas without any counterpart."
    },
    {
     "cell_type": "markdown",
     "metadata": {},
     "source": "##More functions : keyword, optional, variable length arguments"
    },
    {
     "cell_type": "code",
     "collapsed": false,
     "input": "def f(x=1,y=0):\n    return x*y",
     "language": "python",
     "metadata": {},
     "outputs": [
      {
       "metadata": {},
       "output_type": "pyout",
       "prompt_number": 20,
       "text": "1"
      }
     ],
     "prompt_number": 20
    },
    {
     "cell_type": "code",
     "collapsed": false,
     "input": "f(y=1,x=2)\nf()\n\ndef g(x,parallelize=True):\n    if parallelize:\n        return \"result of parrallel computation\"\n    else:\n        return \"result of single node computation\"",
     "language": "python",
     "metadata": {},
     "outputs": []
    },
    {
     "cell_type": "markdown",
     "metadata": {},
     "source": "variable length arguments"
    },
    {
     "cell_type": "code",
     "collapsed": false,
     "input": "#!/usr/bin/python\n\n# Function definition is here\ndef printinfo( arg1, *vartuple ):\n   \"This prints a variable passed arguments\"\n   print \"Output is: \"\n   print arg1\n   for var in vartuple:\n      print var\n   return;\n\n# Now you can call printinfo function\nprintinfo( 10 );\nprintinfo( 70, 60, 50 );",
     "language": "python",
     "metadata": {},
     "outputs": [
      {
       "output_type": "stream",
       "stream": "stdout",
       "text": "Output is: \n10\nOutput is: \n70\n60\n50\n"
      }
     ],
     "prompt_number": 31
    },
    {
     "cell_type": "markdown",
     "metadata": {},
     "source": "##Deeper into the objects"
    },
    {
     "cell_type": "markdown",
     "metadata": {},
     "source": "One can always go and see what **anything** in python is because in python **anything** is an always object, with attributes one can access with the `dir` command (or the ? mark but only in the ipython terminal, not in a script)."
    },
    {
     "cell_type": "markdown",
     "metadata": {},
     "source": "###into modules"
    },
    {
     "cell_type": "code",
     "collapsed": false,
     "input": "import math\n\ndir(math)\n\nmath.__doc__\nmath.__name__\nmath.__file__",
     "language": "python",
     "metadata": {},
     "outputs": []
    },
    {
     "cell_type": "markdown",
     "metadata": {},
     "source": "###into functions"
    },
    {
     "cell_type": "markdown",
     "metadata": {},
     "source": "We can explore the depth of the objects and find all thei components : for a given function one can recover the name of the variables, the name, the code of the function (when not from compiled C), the documentation,...\n\n- func_name\n- func_code\n- varnames\n- __doc__...\n\nAnd in some cases, we can even change these attributes !"
    },
    {
     "cell_type": "code",
     "collapsed": false,
     "input": "g=lambda y,x : x>4",
     "language": "python",
     "metadata": {},
     "outputs": [
      {
       "metadata": {},
       "output_type": "pyout",
       "prompt_number": 38,
       "text": "<function __main__.<lambda>>"
      }
     ],
     "prompt_number": 38
    },
    {
     "cell_type": "code",
     "collapsed": false,
     "input": "g.func_code\ng.func_code.varnames\ng.func_name",
     "language": "python",
     "metadata": {},
     "outputs": [
      {
       "metadata": {},
       "output_type": "pyout",
       "prompt_number": 17,
       "text": "('x', 'y')"
      }
     ],
     "prompt_number": 17
    },
    {
     "cell_type": "markdown",
     "metadata": {},
     "source": "##Namespaces, globals and locals"
    },
    {
     "cell_type": "markdown",
     "metadata": {},
     "source": "Where can we see the variables we defined ?\n\nIn other words, if I let my Ipython terminal open when I am having coffee, can I see if my neighbour created new variables ?\n\nYes, by looking in the global spacename that is a dictionary with all the objects.\n\nIn addition, every structure : class, function... has its own local spacename (a dict we can acces through the function locals()) that only survives the time that the class, the function survives.\n\nAnd \"la cerise sur le gateau\" as we say in French : one can change these dictionnaries : one can make a local function become global by adding it to the globals."
    },
    {
     "cell_type": "code",
     "collapsed": false,
     "input": "print globals()\n\ndef f(x):\n    print locals()\n    return x",
     "language": "python",
     "metadata": {},
     "outputs": []
    },
    {
     "cell_type": "markdown",
     "metadata": {},
     "source": "##Modifiers vs pure functions"
    },
    {
     "cell_type": "markdown",
     "metadata": {},
     "source": "Python allows pure functions like in functionnal programming and modifier also. But one must be aware not to use one instead of the other.\n\nIf you modify a variable in a function, as it is not in the local namespace, Python compiler searches it in the global namespace : you **modify** the variable. If you create a new variable *a* in the function, it is created in the local namespace and this variable will disappear with the end of the execution of the function : the global variable *a* remains unchanged."
    },
    {
     "cell_type": "code",
     "collapsed": false,
     "input": "def Add(a,b):\n        L=[]\n        L.append(a)\n        print locals()\n#        print globals()\n        L.append(b)\n        a=[1,1]\n        print locals()\n        return L",
     "language": "python",
     "metadata": {},
     "outputs": [],
     "prompt_number": 22
    },
    {
     "cell_type": "markdown",
     "metadata": {},
     "source": "Other example of modifier"
    },
    {
     "cell_type": "code",
     "collapsed": false,
     "input": "a=[1,2]\nb=[2,3]",
     "language": "python",
     "metadata": {},
     "outputs": [],
     "prompt_number": 9
    },
    {
     "cell_type": "code",
     "collapsed": false,
     "input": "a",
     "language": "python",
     "metadata": {},
     "outputs": [
      {
       "metadata": {},
       "output_type": "pyout",
       "prompt_number": 11,
       "text": "[1, 2]"
      }
     ],
     "prompt_number": 11
    },
    {
     "cell_type": "code",
     "collapsed": false,
     "input": "def Increment(a,b):\n    a+=b",
     "language": "python",
     "metadata": {},
     "outputs": [],
     "prompt_number": 12
    },
    {
     "cell_type": "code",
     "collapsed": false,
     "input": "Increment(a,b)",
     "language": "python",
     "metadata": {},
     "outputs": [],
     "prompt_number": 13
    },
    {
     "cell_type": "code",
     "collapsed": false,
     "input": "a",
     "language": "python",
     "metadata": {},
     "outputs": [
      {
       "metadata": {},
       "output_type": "pyout",
       "prompt_number": 14,
       "text": "[1, 2, 2, 3]"
      }
     ],
     "prompt_number": 14
    },
    {
     "cell_type": "markdown",
     "metadata": {},
     "source": "##Numpy.loadtxt"
    },
    {
     "cell_type": "code",
     "collapsed": false,
     "input": "# pylab on\n\nimport numpy as np\nimport matplotlib.pyplot as plt\n\ndata=np.loadtxt(\"psi_alpha_22.dat\")\nplt.imshow(data)",
     "language": "python",
     "metadata": {},
     "outputs": [],
     "prompt_number": 33
    },
    {
     "cell_type": "markdown",
     "metadata": {},
     "source": "##Game of Life"
    },
    {
     "cell_type": "markdown",
     "metadata": {},
     "source": "##Projects"
    },
    {
     "cell_type": "markdown",
     "metadata": {},
     "source": "##The Zen of Python"
    },
    {
     "cell_type": "code",
     "collapsed": false,
     "input": "import this",
     "language": "python",
     "metadata": {},
     "outputs": [
      {
       "output_type": "stream",
       "stream": "stdout",
       "text": "The Zen of Python, by Tim Peters\n\nBeautiful is better than ugly.\nExplicit is better than implicit.\nSimple is better than complex.\nComplex is better than complicated.\nFlat is better than nested.\nSparse is better than dense.\nReadability counts.\nSpecial cases aren't special enough to break the rules.\nAlthough practicality beats purity.\nErrors should never pass silently.\nUnless explicitly silenced.\nIn the face of ambiguity, refuse the temptation to guess.\nThere should be one-- and preferably only one --obvious way to do it.\nAlthough that way may not be obvious at first unless you're Dutch.\nNow is better than never.\nAlthough never is often better than *right* now.\nIf the implementation is hard to explain, it's a bad idea.\nIf the implementation is easy to explain, it may be a good idea.\nNamespaces are one honking great idea -- let's do more of those!\n"
      }
     ],
     "prompt_number": 34
    }
   ],
   "metadata": {}
  }
 ]
}